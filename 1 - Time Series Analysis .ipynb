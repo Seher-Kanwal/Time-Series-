{
 "cells": [
  {
   "cell_type": "code",
   "execution_count": 1,
   "id": "1d886411",
   "metadata": {},
   "outputs": [],
   "source": [
    "import pandas as pd\n",
    "\n",
    "## For date and time \n",
    "\n",
    "from datetime import datetime"
   ]
  },
  {
   "cell_type": "markdown",
   "id": "cb218b66",
   "metadata": {},
   "source": [
    "## Let's load the Tesla data from the yahoo site using pdr"
   ]
  },
  {
   "cell_type": "code",
   "execution_count": 2,
   "id": "b039fe92",
   "metadata": {
    "scrolled": true
   },
   "outputs": [
    {
     "data": {
      "text/html": [
       "<div>\n",
       "<style scoped>\n",
       "    .dataframe tbody tr th:only-of-type {\n",
       "        vertical-align: middle;\n",
       "    }\n",
       "\n",
       "    .dataframe tbody tr th {\n",
       "        vertical-align: top;\n",
       "    }\n",
       "\n",
       "    .dataframe thead th {\n",
       "        text-align: right;\n",
       "    }\n",
       "</style>\n",
       "<table border=\"1\" class=\"dataframe\">\n",
       "  <thead>\n",
       "    <tr style=\"text-align: right;\">\n",
       "      <th></th>\n",
       "      <th>Open</th>\n",
       "      <th>High</th>\n",
       "      <th>Low</th>\n",
       "      <th>Close</th>\n",
       "      <th>Adj Close</th>\n",
       "      <th>Volume</th>\n",
       "    </tr>\n",
       "    <tr>\n",
       "      <th>Date</th>\n",
       "      <th></th>\n",
       "      <th></th>\n",
       "      <th></th>\n",
       "      <th></th>\n",
       "      <th></th>\n",
       "      <th></th>\n",
       "    </tr>\n",
       "  </thead>\n",
       "  <tbody>\n",
       "    <tr>\n",
       "      <th>2010-06-29</th>\n",
       "      <td>3.800</td>\n",
       "      <td>5.000</td>\n",
       "      <td>3.508</td>\n",
       "      <td>4.778</td>\n",
       "      <td>4.778</td>\n",
       "      <td>93831500</td>\n",
       "    </tr>\n",
       "    <tr>\n",
       "      <th>2010-06-30</th>\n",
       "      <td>5.158</td>\n",
       "      <td>6.084</td>\n",
       "      <td>4.660</td>\n",
       "      <td>4.766</td>\n",
       "      <td>4.766</td>\n",
       "      <td>85935500</td>\n",
       "    </tr>\n",
       "    <tr>\n",
       "      <th>2010-07-01</th>\n",
       "      <td>5.000</td>\n",
       "      <td>5.184</td>\n",
       "      <td>4.054</td>\n",
       "      <td>4.392</td>\n",
       "      <td>4.392</td>\n",
       "      <td>41094000</td>\n",
       "    </tr>\n",
       "    <tr>\n",
       "      <th>2010-07-02</th>\n",
       "      <td>4.600</td>\n",
       "      <td>4.620</td>\n",
       "      <td>3.742</td>\n",
       "      <td>3.840</td>\n",
       "      <td>3.840</td>\n",
       "      <td>25699000</td>\n",
       "    </tr>\n",
       "    <tr>\n",
       "      <th>2010-07-06</th>\n",
       "      <td>4.000</td>\n",
       "      <td>4.000</td>\n",
       "      <td>3.166</td>\n",
       "      <td>3.222</td>\n",
       "      <td>3.222</td>\n",
       "      <td>34334500</td>\n",
       "    </tr>\n",
       "  </tbody>\n",
       "</table>\n",
       "</div>"
      ],
      "text/plain": [
       "             Open   High    Low  Close  Adj Close    Volume\n",
       "Date                                                       \n",
       "2010-06-29  3.800  5.000  3.508  4.778      4.778  93831500\n",
       "2010-06-30  5.158  6.084  4.660  4.766      4.766  85935500\n",
       "2010-07-01  5.000  5.184  4.054  4.392      4.392  41094000\n",
       "2010-07-02  4.600  4.620  3.742  3.840      3.840  25699000\n",
       "2010-07-06  4.000  4.000  3.166  3.222      3.222  34334500"
      ]
     },
     "execution_count": 2,
     "metadata": {},
     "output_type": "execute_result"
    }
   ],
   "source": [
    "df = pd.read_csv(\"TSLA.csv\", index_col='Date')\n",
    "df.head()"
   ]
  },
  {
   "cell_type": "code",
   "execution_count": 3,
   "id": "4b1ba971",
   "metadata": {
    "scrolled": true
   },
   "outputs": [
    {
     "data": {
      "text/html": [
       "<div>\n",
       "<style scoped>\n",
       "    .dataframe tbody tr th:only-of-type {\n",
       "        vertical-align: middle;\n",
       "    }\n",
       "\n",
       "    .dataframe tbody tr th {\n",
       "        vertical-align: top;\n",
       "    }\n",
       "\n",
       "    .dataframe thead th {\n",
       "        text-align: right;\n",
       "    }\n",
       "</style>\n",
       "<table border=\"1\" class=\"dataframe\">\n",
       "  <thead>\n",
       "    <tr style=\"text-align: right;\">\n",
       "      <th></th>\n",
       "      <th>Open</th>\n",
       "      <th>High</th>\n",
       "      <th>Low</th>\n",
       "      <th>Close</th>\n",
       "      <th>Adj Close</th>\n",
       "      <th>Volume</th>\n",
       "    </tr>\n",
       "    <tr>\n",
       "      <th>Date</th>\n",
       "      <th></th>\n",
       "      <th></th>\n",
       "      <th></th>\n",
       "      <th></th>\n",
       "      <th></th>\n",
       "      <th></th>\n",
       "    </tr>\n",
       "  </thead>\n",
       "  <tbody>\n",
       "    <tr>\n",
       "      <th>2022-03-18</th>\n",
       "      <td>874.489990</td>\n",
       "      <td>907.849976</td>\n",
       "      <td>867.390015</td>\n",
       "      <td>905.390015</td>\n",
       "      <td>905.390015</td>\n",
       "      <td>33408500</td>\n",
       "    </tr>\n",
       "    <tr>\n",
       "      <th>2022-03-21</th>\n",
       "      <td>914.979980</td>\n",
       "      <td>942.849976</td>\n",
       "      <td>907.090027</td>\n",
       "      <td>921.159973</td>\n",
       "      <td>921.159973</td>\n",
       "      <td>27327200</td>\n",
       "    </tr>\n",
       "    <tr>\n",
       "      <th>2022-03-22</th>\n",
       "      <td>930.000000</td>\n",
       "      <td>997.859985</td>\n",
       "      <td>921.750000</td>\n",
       "      <td>993.979980</td>\n",
       "      <td>993.979980</td>\n",
       "      <td>35289500</td>\n",
       "    </tr>\n",
       "    <tr>\n",
       "      <th>2022-03-23</th>\n",
       "      <td>979.940002</td>\n",
       "      <td>1040.699951</td>\n",
       "      <td>976.400024</td>\n",
       "      <td>999.109985</td>\n",
       "      <td>999.109985</td>\n",
       "      <td>40225400</td>\n",
       "    </tr>\n",
       "    <tr>\n",
       "      <th>2022-03-24</th>\n",
       "      <td>1009.729980</td>\n",
       "      <td>1024.489990</td>\n",
       "      <td>988.799988</td>\n",
       "      <td>1013.919983</td>\n",
       "      <td>1013.919983</td>\n",
       "      <td>22901900</td>\n",
       "    </tr>\n",
       "  </tbody>\n",
       "</table>\n",
       "</div>"
      ],
      "text/plain": [
       "                   Open         High         Low        Close    Adj Close  \\\n",
       "Date                                                                         \n",
       "2022-03-18   874.489990   907.849976  867.390015   905.390015   905.390015   \n",
       "2022-03-21   914.979980   942.849976  907.090027   921.159973   921.159973   \n",
       "2022-03-22   930.000000   997.859985  921.750000   993.979980   993.979980   \n",
       "2022-03-23   979.940002  1040.699951  976.400024   999.109985   999.109985   \n",
       "2022-03-24  1009.729980  1024.489990  988.799988  1013.919983  1013.919983   \n",
       "\n",
       "              Volume  \n",
       "Date                  \n",
       "2022-03-18  33408500  \n",
       "2022-03-21  27327200  \n",
       "2022-03-22  35289500  \n",
       "2022-03-23  40225400  \n",
       "2022-03-24  22901900  "
      ]
     },
     "execution_count": 3,
     "metadata": {},
     "output_type": "execute_result"
    }
   ],
   "source": [
    "## we have data from 2010 t0 2022\n",
    "df.tail()"
   ]
  },
  {
   "cell_type": "markdown",
   "id": "2e1f656b",
   "metadata": {},
   "source": [
    "### Index must be in datetime format to plot graph better "
   ]
  },
  {
   "cell_type": "code",
   "execution_count": 4,
   "id": "9465946c",
   "metadata": {
    "scrolled": true
   },
   "outputs": [
    {
     "name": "stdout",
     "output_type": "stream",
     "text": [
      "<class 'pandas.core.frame.DataFrame'>\n",
      "Index: 2956 entries, 2010-06-29 to 2022-03-24\n",
      "Data columns (total 6 columns):\n",
      " #   Column     Non-Null Count  Dtype  \n",
      "---  ------     --------------  -----  \n",
      " 0   Open       2956 non-null   float64\n",
      " 1   High       2956 non-null   float64\n",
      " 2   Low        2956 non-null   float64\n",
      " 3   Close      2956 non-null   float64\n",
      " 4   Adj Close  2956 non-null   float64\n",
      " 5   Volume     2956 non-null   int64  \n",
      "dtypes: float64(5), int64(1)\n",
      "memory usage: 161.7+ KB\n"
     ]
    }
   ],
   "source": [
    "## there is no null values in it \n",
    "df.info()"
   ]
  },
  {
   "cell_type": "code",
   "execution_count": 5,
   "id": "06afc73a",
   "metadata": {},
   "outputs": [
    {
     "data": {
      "text/plain": [
       "Index(['2010-06-29', '2010-06-30', '2010-07-01', '2010-07-02', '2010-07-06',\n",
       "       '2010-07-07', '2010-07-08', '2010-07-09', '2010-07-12', '2010-07-13',\n",
       "       ...\n",
       "       '2022-03-11', '2022-03-14', '2022-03-15', '2022-03-16', '2022-03-17',\n",
       "       '2022-03-18', '2022-03-21', '2022-03-22', '2022-03-23', '2022-03-24'],\n",
       "      dtype='object', name='Date', length=2956)"
      ]
     },
     "execution_count": 5,
     "metadata": {},
     "output_type": "execute_result"
    }
   ],
   "source": [
    "### Check for the index \n",
    "df.index"
   ]
  },
  {
   "cell_type": "code",
   "execution_count": 6,
   "id": "aaca1b11",
   "metadata": {},
   "outputs": [],
   "source": [
    "## it's type is object let's convert it into the datetime type \n",
    "df.index = pd.to_datetime(df.index)"
   ]
  },
  {
   "cell_type": "code",
   "execution_count": 7,
   "id": "456ae35d",
   "metadata": {},
   "outputs": [
    {
     "data": {
      "text/plain": [
       "(2956, 6)"
      ]
     },
     "execution_count": 7,
     "metadata": {},
     "output_type": "execute_result"
    }
   ],
   "source": [
    "df.shape"
   ]
  },
  {
   "cell_type": "code",
   "execution_count": 8,
   "id": "3b911f3d",
   "metadata": {},
   "outputs": [
    {
     "data": {
      "text/plain": [
       "<AxesSubplot:xlabel='Date'>"
      ]
     },
     "execution_count": 8,
     "metadata": {},
     "output_type": "execute_result"
    },
    {
     "data": {
      "image/png": "[encoded data removed]",
      "text/plain": [
       "<Figure size 432x288 with 1 Axes>"
      ]
     },
     "metadata": {
      "needs_background": "light"
     },
     "output_type": "display_data"
    }
   ],
   "source": [
    "df['High'].plot()"
   ]
  },
  {
   "cell_type": "markdown",
   "id": "0cf73dde",
   "metadata": {},
   "source": [
    "### let's add fig size parameter to view it better "
   ]
  },
  {
   "cell_type": "code",
   "execution_count": 9,
   "id": "9e1f0610",
   "metadata": {},
   "outputs": [
    {
     "data": {
      "text/plain": [
       "<AxesSubplot:xlabel='Date'>"
      ]
     },
     "execution_count": 9,
     "metadata": {},
     "output_type": "execute_result"
    },
    {
     "data": {
      "image/png": "[encoded data removed]",
      "text/plain": [
       "<Figure size 864x360 with 1 Axes>"
      ]
     },
     "metadata": {
      "needs_background": "light"
     },
     "output_type": "display_data"
    }
   ],
   "source": [
    "df['High'].plot(figsize = (12,5))"
   ]
  },
  {
   "cell_type": "markdown",
   "id": "5aaa49ac",
   "metadata": {},
   "source": [
    "## Here the points in the plots are skewed let's view the limited or specfic time period data "
   ]
  },
  {
   "cell_type": "code",
   "execution_count": 10,
   "id": "dfe81a0f",
   "metadata": {},
   "outputs": [
    {
     "data": {
      "text/plain": [
       "<AxesSubplot:xlabel='Date'>"
      ]
     },
     "execution_count": 10,
     "metadata": {},
     "output_type": "execute_result"
    },
    {
     "data": {
      "image/png": "[encoded data removed]",
      "text/plain": [
       "<Figure size 864x288 with 1 Axes>"
      ]
     },
     "metadata": {
      "needs_background": "light"
     },
     "output_type": "display_data"
    }
   ],
   "source": [
    "df[\"High\"].plot(xlim = ['2020-06-04', '2022-03-24'], figsize = (12,4))"
   ]
  },
  {
   "cell_type": "markdown",
   "id": "5c7e7f8d",
   "metadata": {},
   "source": [
    "### In order to view the specific data we can also use the loc fn \n",
    "- let's do it with open col "
   ]
  },
  {
   "cell_type": "code",
   "execution_count": 11,
   "id": "7ed1bc44",
   "metadata": {
    "scrolled": true
   },
   "outputs": [
    {
     "data": {
      "text/plain": [
       "DatetimeIndex(['2020-01-02', '2020-01-03', '2020-01-06', '2020-01-07',\n",
       "               '2020-01-08', '2020-01-09', '2020-01-10', '2020-01-13',\n",
       "               '2020-01-14', '2020-01-15',\n",
       "               ...\n",
       "               '2021-08-19', '2021-08-20', '2021-08-23', '2021-08-24',\n",
       "               '2021-08-25', '2021-08-26', '2021-08-27', '2021-08-30',\n",
       "               '2021-08-31', '2021-09-01'],\n",
       "              dtype='datetime64[ns]', name='Date', length=421, freq=None)"
      ]
     },
     "execution_count": 11,
     "metadata": {},
     "output_type": "execute_result"
    }
   ],
   "source": [
    "## this gives us the indexes of the req data \n",
    "index = df.loc['2020-01-01':'2021-09-01'].index\n",
    "index"
   ]
  },
  {
   "cell_type": "markdown",
   "id": "11c57c55",
   "metadata": {},
   "source": [
    "## Now let's check for the open col "
   ]
  },
  {
   "cell_type": "code",
   "execution_count": 12,
   "id": "b72c0644",
   "metadata": {},
   "outputs": [
    {
     "data": {
      "text/plain": [
       "Date\n",
       "2020-01-02     84.900002\n",
       "2020-01-03     88.099998\n",
       "2020-01-06     88.094002\n",
       "2020-01-07     92.279999\n",
       "2020-01-08     94.739998\n",
       "                 ...    \n",
       "2021-08-26    708.309998\n",
       "2021-08-27    705.000000\n",
       "2021-08-30    714.719971\n",
       "2021-08-31    733.000000\n",
       "2021-09-01    734.080017\n",
       "Name: Open, Length: 421, dtype: float64"
      ]
     },
     "execution_count": 12,
     "metadata": {},
     "output_type": "execute_result"
    }
   ],
   "source": [
    "open_share = df.loc['2020-01-01':'2021-09-01']['Open']\n",
    "open_share"
   ]
  },
  {
   "cell_type": "markdown",
   "id": "1d982b79",
   "metadata": {},
   "source": [
    "### Let's plot it "
   ]
  },
  {
   "cell_type": "code",
   "execution_count": 13,
   "id": "4879828a",
   "metadata": {},
   "outputs": [],
   "source": [
    "import matplotlib.pyplot as plt "
   ]
  },
  {
   "cell_type": "code",
   "execution_count": 14,
   "id": "3f6ef0b6",
   "metadata": {},
   "outputs": [
    {
     "data": {
      "text/plain": [
       "[<matplotlib.lines.Line2D at 0x265545c7370>]"
      ]
     },
     "execution_count": 14,
     "metadata": {},
     "output_type": "execute_result"
    },
    {
     "data": {
      "image/png": "[encoded data removed]",
      "text/plain": [
       "<Figure size 432x288 with 1 Axes>"
      ]
     },
     "metadata": {
      "needs_background": "light"
     },
     "output_type": "display_data"
    }
   ],
   "source": [
    "figure, axis = plt.subplots()\n",
    "\n",
    "## plot takes two arguments \n",
    "axis.plot(index, open_share)\n"
   ]
  },
  {
   "cell_type": "markdown",
   "id": "b6a66cb5",
   "metadata": {},
   "source": [
    "#### Here the indexes got overlapped so we use figure.autofmt_xdate() to avoid over lapping "
   ]
  },
  {
   "cell_type": "code",
   "execution_count": 15,
   "id": "1f05e33a",
   "metadata": {},
   "outputs": [
    {
     "data": {
      "text/plain": [
       "[<matplotlib.lines.Line2D at 0x26554516e80>]"
      ]
     },
     "execution_count": 15,
     "metadata": {},
     "output_type": "execute_result"
    },
    {
     "data": {
      "image/png": "[encoded data removed]",
      "text/plain": [
       "<Figure size 432x288 with 1 Axes>"
      ]
     },
     "metadata": {
      "needs_background": "light"
     },
     "output_type": "display_data"
    }
   ],
   "source": [
    "figure, axis = plt.subplots()\n",
    "\n",
    "plt.tight_layout()\n",
    "## Preventing overlapping\n",
    "figure.autofmt_xdate()\n",
    "\n",
    "## plot takes two arguments \n",
    "axis.plot(index, open_share, 'c')"
   ]
  },
  {
   "cell_type": "markdown",
   "id": "b9c802c2",
   "metadata": {},
   "source": [
    "## Data Resampling \n",
    "it is used to get specfic data according to the rule that we provide it \n",
    "- In order to apply resampling, index would be in datatime "
   ]
  },
  {
   "cell_type": "code",
   "execution_count": 16,
   "id": "fc9f30f4",
   "metadata": {},
   "outputs": [
    {
     "data": {
      "text/html": [
       "<div>\n",
       "<style scoped>\n",
       "    .dataframe tbody tr th:only-of-type {\n",
       "        vertical-align: middle;\n",
       "    }\n",
       "\n",
       "    .dataframe tbody tr th {\n",
       "        vertical-align: top;\n",
       "    }\n",
       "\n",
       "    .dataframe thead th {\n",
       "        text-align: right;\n",
       "    }\n",
       "</style>\n",
       "<table border=\"1\" class=\"dataframe\">\n",
       "  <thead>\n",
       "    <tr style=\"text-align: right;\">\n",
       "      <th></th>\n",
       "      <th>Open</th>\n",
       "      <th>High</th>\n",
       "      <th>Low</th>\n",
       "      <th>Close</th>\n",
       "      <th>Adj Close</th>\n",
       "      <th>Volume</th>\n",
       "    </tr>\n",
       "    <tr>\n",
       "      <th>Date</th>\n",
       "      <th></th>\n",
       "      <th></th>\n",
       "      <th></th>\n",
       "      <th></th>\n",
       "      <th></th>\n",
       "      <th></th>\n",
       "    </tr>\n",
       "  </thead>\n",
       "  <tbody>\n",
       "    <tr>\n",
       "      <th>2010-12-31</th>\n",
       "      <td>3.228000</td>\n",
       "      <td>3.326000</td>\n",
       "      <td>2.996000</td>\n",
       "      <td>3.160000</td>\n",
       "      <td>3.160000</td>\n",
       "      <td>592500</td>\n",
       "    </tr>\n",
       "    <tr>\n",
       "      <th>2011-12-31</th>\n",
       "      <td>4.356000</td>\n",
       "      <td>4.454000</td>\n",
       "      <td>4.222000</td>\n",
       "      <td>4.366000</td>\n",
       "      <td>4.366000</td>\n",
       "      <td>1198000</td>\n",
       "    </tr>\n",
       "    <tr>\n",
       "      <th>2012-12-31</th>\n",
       "      <td>5.324000</td>\n",
       "      <td>5.370000</td>\n",
       "      <td>4.528000</td>\n",
       "      <td>4.558000</td>\n",
       "      <td>4.558000</td>\n",
       "      <td>1824500</td>\n",
       "    </tr>\n",
       "    <tr>\n",
       "      <th>2013-12-31</th>\n",
       "      <td>6.616000</td>\n",
       "      <td>6.676000</td>\n",
       "      <td>6.422000</td>\n",
       "      <td>6.582000</td>\n",
       "      <td>6.582000</td>\n",
       "      <td>2201000</td>\n",
       "    </tr>\n",
       "    <tr>\n",
       "      <th>2014-12-31</th>\n",
       "      <td>28.100000</td>\n",
       "      <td>29.400000</td>\n",
       "      <td>27.334000</td>\n",
       "      <td>27.868000</td>\n",
       "      <td>27.868000</td>\n",
       "      <td>6661000</td>\n",
       "    </tr>\n",
       "    <tr>\n",
       "      <th>2015-12-31</th>\n",
       "      <td>37.166000</td>\n",
       "      <td>37.858002</td>\n",
       "      <td>36.279999</td>\n",
       "      <td>37.000000</td>\n",
       "      <td>37.000000</td>\n",
       "      <td>3540000</td>\n",
       "    </tr>\n",
       "    <tr>\n",
       "      <th>2016-12-31</th>\n",
       "      <td>28.464001</td>\n",
       "      <td>30.993999</td>\n",
       "      <td>28.209999</td>\n",
       "      <td>28.733999</td>\n",
       "      <td>28.733999</td>\n",
       "      <td>8297500</td>\n",
       "    </tr>\n",
       "    <tr>\n",
       "      <th>2017-12-31</th>\n",
       "      <td>42.950001</td>\n",
       "      <td>44.066002</td>\n",
       "      <td>42.192001</td>\n",
       "      <td>43.397999</td>\n",
       "      <td>43.397999</td>\n",
       "      <td>10933500</td>\n",
       "    </tr>\n",
       "    <tr>\n",
       "      <th>2018-12-31</th>\n",
       "      <td>50.556000</td>\n",
       "      <td>52.066002</td>\n",
       "      <td>48.917999</td>\n",
       "      <td>50.112000</td>\n",
       "      <td>50.112000</td>\n",
       "      <td>15403500</td>\n",
       "    </tr>\n",
       "    <tr>\n",
       "      <th>2019-12-31</th>\n",
       "      <td>36.220001</td>\n",
       "      <td>37.335999</td>\n",
       "      <td>35.397999</td>\n",
       "      <td>35.793999</td>\n",
       "      <td>35.793999</td>\n",
       "      <td>12328000</td>\n",
       "    </tr>\n",
       "    <tr>\n",
       "      <th>2020-12-31</th>\n",
       "      <td>74.940002</td>\n",
       "      <td>80.972000</td>\n",
       "      <td>70.101997</td>\n",
       "      <td>72.244003</td>\n",
       "      <td>72.244003</td>\n",
       "      <td>17357700</td>\n",
       "    </tr>\n",
       "    <tr>\n",
       "      <th>2021-12-31</th>\n",
       "      <td>552.549988</td>\n",
       "      <td>566.210022</td>\n",
       "      <td>539.489990</td>\n",
       "      <td>563.000000</td>\n",
       "      <td>563.000000</td>\n",
       "      <td>9800600</td>\n",
       "    </tr>\n",
       "    <tr>\n",
       "      <th>2022-12-31</th>\n",
       "      <td>700.390015</td>\n",
       "      <td>800.700012</td>\n",
       "      <td>700.000000</td>\n",
       "      <td>764.039978</td>\n",
       "      <td>764.039978</td>\n",
       "      <td>16909700</td>\n",
       "    </tr>\n",
       "  </tbody>\n",
       "</table>\n",
       "</div>"
      ],
      "text/plain": [
       "                  Open        High         Low       Close   Adj Close  \\\n",
       "Date                                                                     \n",
       "2010-12-31    3.228000    3.326000    2.996000    3.160000    3.160000   \n",
       "2011-12-31    4.356000    4.454000    4.222000    4.366000    4.366000   \n",
       "2012-12-31    5.324000    5.370000    4.528000    4.558000    4.558000   \n",
       "2013-12-31    6.616000    6.676000    6.422000    6.582000    6.582000   \n",
       "2014-12-31   28.100000   29.400000   27.334000   27.868000   27.868000   \n",
       "2015-12-31   37.166000   37.858002   36.279999   37.000000   37.000000   \n",
       "2016-12-31   28.464001   30.993999   28.209999   28.733999   28.733999   \n",
       "2017-12-31   42.950001   44.066002   42.192001   43.397999   43.397999   \n",
       "2018-12-31   50.556000   52.066002   48.917999   50.112000   50.112000   \n",
       "2019-12-31   36.220001   37.335999   35.397999   35.793999   35.793999   \n",
       "2020-12-31   74.940002   80.972000   70.101997   72.244003   72.244003   \n",
       "2021-12-31  552.549988  566.210022  539.489990  563.000000  563.000000   \n",
       "2022-12-31  700.390015  800.700012  700.000000  764.039978  764.039978   \n",
       "\n",
       "              Volume  \n",
       "Date                  \n",
       "2010-12-31    592500  \n",
       "2011-12-31   1198000  \n",
       "2012-12-31   1824500  \n",
       "2013-12-31   2201000  \n",
       "2014-12-31   6661000  \n",
       "2015-12-31   3540000  \n",
       "2016-12-31   8297500  \n",
       "2017-12-31  10933500  \n",
       "2018-12-31  15403500  \n",
       "2019-12-31  12328000  \n",
       "2020-12-31  17357700  \n",
       "2021-12-31   9800600  \n",
       "2022-12-31  16909700  "
      ]
     },
     "execution_count": 16,
     "metadata": {},
     "output_type": "execute_result"
    }
   ],
   "source": [
    "df.resample(rule = 'A').min()"
   ]
  },
  {
   "cell_type": "code",
   "execution_count": 17,
   "id": "38ffdb7d",
   "metadata": {},
   "outputs": [
    {
     "data": {
      "text/plain": [
       "Date\n",
       "2010-12-31      3.228000\n",
       "2011-12-31      4.356000\n",
       "2012-12-31      5.324000\n",
       "2013-12-31      6.616000\n",
       "2014-12-31     28.100000\n",
       "2015-12-31     37.166000\n",
       "2016-12-31     28.464001\n",
       "2017-12-31     42.950001\n",
       "2018-12-31     50.556000\n",
       "2019-12-31     36.220001\n",
       "2020-12-31     74.940002\n",
       "2021-12-31    552.549988\n",
       "2022-12-31    700.390015\n",
       "Freq: A-DEC, Name: Open, dtype: float64"
      ]
     },
     "execution_count": 17,
     "metadata": {},
     "output_type": "execute_result"
    }
   ],
   "source": [
    "df['Open'].resample(rule = 'A').min()"
   ]
  },
  {
   "cell_type": "markdown",
   "id": "d783b4c3",
   "metadata": {},
   "source": [
    "## Let's plot it "
   ]
  },
  {
   "cell_type": "code",
   "execution_count": 18,
   "id": "e10dd4f5",
   "metadata": {},
   "outputs": [
    {
     "data": {
      "text/plain": [
       "<AxesSubplot:xlabel='Date'>"
      ]
     },
     "execution_count": 18,
     "metadata": {},
     "output_type": "execute_result"
    },
    {
     "data": {
      "image/png": "[encoded data removed]",
      "text/plain": [
       "<Figure size 432x288 with 1 Axes>"
      ]
     },
     "metadata": {
      "needs_background": "light"
     },
     "output_type": "display_data"
    }
   ],
   "source": [
    "df.resample(rule = 'A').min()['Open'].plot()"
   ]
  },
  {
   "cell_type": "markdown",
   "id": "dfceecd3",
   "metadata": {},
   "source": [
    "## Let's plot the monthly max open stock price "
   ]
  },
  {
   "cell_type": "code",
   "execution_count": 19,
   "id": "472fab13",
   "metadata": {},
   "outputs": [
    {
     "data": {
      "text/plain": [
       "<AxesSubplot:xlabel='Date'>"
      ]
     },
     "execution_count": 19,
     "metadata": {},
     "output_type": "execute_result"
    },
    {
     "data": {
      "image/png": "[encoded data removed]",
      "text/plain": [
       "<Figure size 432x288 with 1 Axes>"
      ]
     },
     "metadata": {
      "needs_background": "light"
     },
     "output_type": "display_data"
    }
   ],
   "source": [
    "df.resample(rule = 'M').max()['Open'].plot()"
   ]
  },
  {
   "cell_type": "markdown",
   "id": "6bf50bd4",
   "metadata": {},
   "source": [
    "## Let's check for each year opening using bar graph "
   ]
  },
  {
   "cell_type": "code",
   "execution_count": 20,
   "id": "6368d58b",
   "metadata": {},
   "outputs": [
    {
     "data": {
      "text/plain": [
       "Date\n",
       "2018-02-28      71.250000\n",
       "2018-03-31      69.001999\n",
       "2018-04-30      60.720001\n",
       "2018-05-31      61.540001\n",
       "2018-06-30      73.031998\n",
       "2018-07-31      72.014000\n",
       "2018-08-31      73.818001\n",
       "2018-09-30      62.580002\n",
       "2018-10-31      67.494003\n",
       "2018-11-30      71.267998\n",
       "2018-12-31      75.000000\n",
       "2019-01-31      69.241997\n",
       "2019-02-28      63.917999\n",
       "2019-03-31      61.388000\n",
       "2019-04-30      57.660000\n",
       "2019-05-31      51.360001\n",
       "2019-06-30      45.743999\n",
       "2019-07-31      51.834000\n",
       "2019-08-31      48.529999\n",
       "2019-09-30      49.540001\n",
       "2019-10-31      65.508003\n",
       "2019-11-30      72.000000\n",
       "2019-12-31      87.000000\n",
       "2020-01-31     128.000000\n",
       "2020-02-29     184.699997\n",
       "2020-03-31     161.000000\n",
       "2020-04-30     171.037994\n",
       "2020-05-31     166.899994\n",
       "2020-06-30     202.556000\n",
       "2020-07-31     335.790009\n",
       "2020-08-31     459.023987\n",
       "2020-09-30     502.140015\n",
       "2020-10-31     454.440002\n",
       "2020-11-30     602.210022\n",
       "2020-12-31     699.989990\n",
       "2021-01-31     891.380005\n",
       "2021-02-28     877.020020\n",
       "2021-03-31     718.280029\n",
       "2021-04-30     770.700012\n",
       "2021-05-31     703.799988\n",
       "2021-06-30     689.580017\n",
       "2021-07-31     686.320007\n",
       "2021-08-31     733.000000\n",
       "2021-09-30     787.200012\n",
       "2021-10-31    1081.859985\n",
       "2021-11-30    1234.410034\n",
       "2021-12-31    1160.699951\n",
       "2022-01-31    1189.550049\n",
       "2022-02-28     935.210022\n",
       "2022-03-31    1009.729980\n",
       "Freq: M, Name: Open, dtype: float64"
      ]
     },
     "execution_count": 20,
     "metadata": {},
     "output_type": "execute_result"
    }
   ],
   "source": [
    "df.resample(rule = 'M').max()['Open'].tail(50)"
   ]
  },
  {
   "cell_type": "code",
   "execution_count": 21,
   "id": "2f7815c0",
   "metadata": {
    "scrolled": true
   },
   "outputs": [
    {
     "data": {
      "text/plain": [
       "<AxesSubplot:xlabel='Date'>"
      ]
     },
     "execution_count": 21,
     "metadata": {},
     "output_type": "execute_result"
    },
    {
     "data": {
      "image/png": "[encoded data removed]",
      "text/plain": [
       "<Figure size 1080x288 with 1 Axes>"
      ]
     },
     "metadata": {
      "needs_background": "light"
     },
     "output_type": "display_data"
    }
   ],
   "source": [
    "df.resample(rule = 'M').max()['Open'].plot(kind ='line', xlim = ['2013-03-31', '2020-12-31'], figsize = (15,4))"
   ]
  },
  {
   "cell_type": "code",
   "execution_count": 22,
   "id": "67139a56",
   "metadata": {
    "scrolled": true
   },
   "outputs": [
    {
     "data": {
      "text/plain": [
       "<AxesSubplot:xlabel='Date'>"
      ]
     },
     "execution_count": 22,
     "metadata": {},
     "output_type": "execute_result"
    },
    {
     "data": {
      "image/png": "[encoded data removed]",
      "text/plain": [
       "<Figure size 1080x288 with 1 Axes>"
      ]
     },
     "metadata": {
      "needs_background": "light"
     },
     "output_type": "display_data"
    }
   ],
   "source": [
    "df['Open'].resample(rule = 'M').max().plot(kind ='bar', xlim = ['2013-03-31', '2020-12-31'], figsize = (15,4))"
   ]
  },
  {
   "cell_type": "markdown",
   "id": "8765bd5b",
   "metadata": {},
   "source": [
    "## Rolling\n",
    "Rolling in time series refers to a method of analyzing data by creating a moving or rolling window of a fixed size and applying a calculation or function to the data within that window.\n",
    "\n",
    "The rolling method can be used to smooth out fluctuations in the data, identify trends or patterns, and detect anomalies or outliers. It is commonly used in finance, economics, and other fields that deal with time series data."
   ]
  },
  {
   "cell_type": "code",
   "execution_count": 25,
   "id": "e8321204",
   "metadata": {},
   "outputs": [
    {
     "data": {
      "text/html": [
       "<div>\n",
       "<style scoped>\n",
       "    .dataframe tbody tr th:only-of-type {\n",
       "        vertical-align: middle;\n",
       "    }\n",
       "\n",
       "    .dataframe tbody tr th {\n",
       "        vertical-align: top;\n",
       "    }\n",
       "\n",
       "    .dataframe thead th {\n",
       "        text-align: right;\n",
       "    }\n",
       "</style>\n",
       "<table border=\"1\" class=\"dataframe\">\n",
       "  <thead>\n",
       "    <tr style=\"text-align: right;\">\n",
       "      <th></th>\n",
       "      <th>Open</th>\n",
       "      <th>High</th>\n",
       "      <th>Low</th>\n",
       "      <th>Close</th>\n",
       "      <th>Adj Close</th>\n",
       "      <th>Volume</th>\n",
       "      <th>Open:5 rolling</th>\n",
       "    </tr>\n",
       "    <tr>\n",
       "      <th>Date</th>\n",
       "      <th></th>\n",
       "      <th></th>\n",
       "      <th></th>\n",
       "      <th></th>\n",
       "      <th></th>\n",
       "      <th></th>\n",
       "      <th></th>\n",
       "    </tr>\n",
       "  </thead>\n",
       "  <tbody>\n",
       "    <tr>\n",
       "      <th>2010-06-29</th>\n",
       "      <td>3.800000</td>\n",
       "      <td>5.000000</td>\n",
       "      <td>3.508000</td>\n",
       "      <td>4.778000</td>\n",
       "      <td>4.778000</td>\n",
       "      <td>93831500</td>\n",
       "      <td>NaN</td>\n",
       "    </tr>\n",
       "    <tr>\n",
       "      <th>2010-06-30</th>\n",
       "      <td>5.158000</td>\n",
       "      <td>6.084000</td>\n",
       "      <td>4.660000</td>\n",
       "      <td>4.766000</td>\n",
       "      <td>4.766000</td>\n",
       "      <td>85935500</td>\n",
       "      <td>NaN</td>\n",
       "    </tr>\n",
       "    <tr>\n",
       "      <th>2010-07-01</th>\n",
       "      <td>5.000000</td>\n",
       "      <td>5.184000</td>\n",
       "      <td>4.054000</td>\n",
       "      <td>4.392000</td>\n",
       "      <td>4.392000</td>\n",
       "      <td>41094000</td>\n",
       "      <td>NaN</td>\n",
       "    </tr>\n",
       "    <tr>\n",
       "      <th>2010-07-02</th>\n",
       "      <td>4.600000</td>\n",
       "      <td>4.620000</td>\n",
       "      <td>3.742000</td>\n",
       "      <td>3.840000</td>\n",
       "      <td>3.840000</td>\n",
       "      <td>25699000</td>\n",
       "      <td>NaN</td>\n",
       "    </tr>\n",
       "    <tr>\n",
       "      <th>2010-07-06</th>\n",
       "      <td>4.000000</td>\n",
       "      <td>4.000000</td>\n",
       "      <td>3.166000</td>\n",
       "      <td>3.222000</td>\n",
       "      <td>3.222000</td>\n",
       "      <td>34334500</td>\n",
       "      <td>4.511600</td>\n",
       "    </tr>\n",
       "    <tr>\n",
       "      <th>...</th>\n",
       "      <td>...</td>\n",
       "      <td>...</td>\n",
       "      <td>...</td>\n",
       "      <td>...</td>\n",
       "      <td>...</td>\n",
       "      <td>...</td>\n",
       "      <td>...</td>\n",
       "    </tr>\n",
       "    <tr>\n",
       "      <th>2022-03-18</th>\n",
       "      <td>874.489990</td>\n",
       "      <td>907.849976</td>\n",
       "      <td>867.390015</td>\n",
       "      <td>905.390015</td>\n",
       "      <td>905.390015</td>\n",
       "      <td>33408500</td>\n",
       "      <td>814.071997</td>\n",
       "    </tr>\n",
       "    <tr>\n",
       "      <th>2022-03-21</th>\n",
       "      <td>914.979980</td>\n",
       "      <td>942.849976</td>\n",
       "      <td>907.090027</td>\n",
       "      <td>921.159973</td>\n",
       "      <td>921.159973</td>\n",
       "      <td>27327200</td>\n",
       "      <td>840.945996</td>\n",
       "    </tr>\n",
       "    <tr>\n",
       "      <th>2022-03-22</th>\n",
       "      <td>930.000000</td>\n",
       "      <td>997.859985</td>\n",
       "      <td>921.750000</td>\n",
       "      <td>993.979980</td>\n",
       "      <td>993.979980</td>\n",
       "      <td>35289500</td>\n",
       "      <td>871.891992</td>\n",
       "    </tr>\n",
       "    <tr>\n",
       "      <th>2022-03-23</th>\n",
       "      <td>979.940002</td>\n",
       "      <td>1040.699951</td>\n",
       "      <td>976.400024</td>\n",
       "      <td>999.109985</td>\n",
       "      <td>999.109985</td>\n",
       "      <td>40225400</td>\n",
       "      <td>906.079992</td>\n",
       "    </tr>\n",
       "    <tr>\n",
       "      <th>2022-03-24</th>\n",
       "      <td>1009.729980</td>\n",
       "      <td>1024.489990</td>\n",
       "      <td>988.799988</td>\n",
       "      <td>1013.919983</td>\n",
       "      <td>1013.919983</td>\n",
       "      <td>22901900</td>\n",
       "      <td>941.827990</td>\n",
       "    </tr>\n",
       "  </tbody>\n",
       "</table>\n",
       "<p>2956 rows × 7 columns</p>\n",
       "</div>"
      ],
      "text/plain": [
       "                   Open         High         Low        Close    Adj Close  \\\n",
       "Date                                                                         \n",
       "2010-06-29     3.800000     5.000000    3.508000     4.778000     4.778000   \n",
       "2010-06-30     5.158000     6.084000    4.660000     4.766000     4.766000   \n",
       "2010-07-01     5.000000     5.184000    4.054000     4.392000     4.392000   \n",
       "2010-07-02     4.600000     4.620000    3.742000     3.840000     3.840000   \n",
       "2010-07-06     4.000000     4.000000    3.166000     3.222000     3.222000   \n",
       "...                 ...          ...         ...          ...          ...   \n",
       "2022-03-18   874.489990   907.849976  867.390015   905.390015   905.390015   \n",
       "2022-03-21   914.979980   942.849976  907.090027   921.159973   921.159973   \n",
       "2022-03-22   930.000000   997.859985  921.750000   993.979980   993.979980   \n",
       "2022-03-23   979.940002  1040.699951  976.400024   999.109985   999.109985   \n",
       "2022-03-24  1009.729980  1024.489990  988.799988  1013.919983  1013.919983   \n",
       "\n",
       "              Volume  Open:5 rolling  \n",
       "Date                                  \n",
       "2010-06-29  93831500             NaN  \n",
       "2010-06-30  85935500             NaN  \n",
       "2010-07-01  41094000             NaN  \n",
       "2010-07-02  25699000             NaN  \n",
       "2010-07-06  34334500        4.511600  \n",
       "...              ...             ...  \n",
       "2022-03-18  33408500      814.071997  \n",
       "2022-03-21  27327200      840.945996  \n",
       "2022-03-22  35289500      871.891992  \n",
       "2022-03-23  40225400      906.079992  \n",
       "2022-03-24  22901900      941.827990  \n",
       "\n",
       "[2956 rows x 7 columns]"
      ]
     },
     "execution_count": 25,
     "metadata": {},
     "output_type": "execute_result"
    }
   ],
   "source": [
    "## first 4 values will be empty bcz it takes the previous 5 values to calculate mean\n",
    "## but at the first 4 steps we don't have 5 values count \n",
    "\n",
    "df['Open:5 rolling'] = df['Open'].rolling(5).mean()\n",
    "df"
   ]
  },
  {
   "cell_type": "markdown",
   "id": "b1011ca5",
   "metadata": {},
   "source": [
    "## Let's check the plot "
   ]
  },
  {
   "cell_type": "code",
   "execution_count": 27,
   "id": "6e693d9e",
   "metadata": {
    "scrolled": true
   },
   "outputs": [
    {
     "data": {
      "text/plain": [
       "<AxesSubplot:xlabel='Date'>"
      ]
     },
     "execution_count": 27,
     "metadata": {},
     "output_type": "execute_result"
    },
    {
     "data": {
      "image/png": "[encoded data removed]",
      "text/plain": [
       "<Figure size 1080x360 with 1 Axes>"
      ]
     },
     "metadata": {
      "needs_background": "light"
     },
     "output_type": "display_data"
    }
   ],
   "source": [
    "df[['Open', 'Open:5 rolling']].plot(figsize = (15,5))"
   ]
  },
  {
   "cell_type": "markdown",
   "id": "de7d3eaa",
   "metadata": {},
   "source": [
    "## Take a large value for window than check the difference "
   ]
  },
  {
   "cell_type": "code",
   "execution_count": 28,
   "id": "38bcc9f0",
   "metadata": {},
   "outputs": [
    {
     "data": {
      "text/html": [
       "<div>\n",
       "<style scoped>\n",
       "    .dataframe tbody tr th:only-of-type {\n",
       "        vertical-align: middle;\n",
       "    }\n",
       "\n",
       "    .dataframe tbody tr th {\n",
       "        vertical-align: top;\n",
       "    }\n",
       "\n",
       "    .dataframe thead th {\n",
       "        text-align: right;\n",
       "    }\n",
       "</style>\n",
       "<table border=\"1\" class=\"dataframe\">\n",
       "  <thead>\n",
       "    <tr style=\"text-align: right;\">\n",
       "      <th></th>\n",
       "      <th>Open</th>\n",
       "      <th>High</th>\n",
       "      <th>Low</th>\n",
       "      <th>Close</th>\n",
       "      <th>Adj Close</th>\n",
       "      <th>Volume</th>\n",
       "      <th>Open:5 rolling</th>\n",
       "      <th>Open:30 rolling</th>\n",
       "    </tr>\n",
       "    <tr>\n",
       "      <th>Date</th>\n",
       "      <th></th>\n",
       "      <th></th>\n",
       "      <th></th>\n",
       "      <th></th>\n",
       "      <th></th>\n",
       "      <th></th>\n",
       "      <th></th>\n",
       "      <th></th>\n",
       "    </tr>\n",
       "  </thead>\n",
       "  <tbody>\n",
       "    <tr>\n",
       "      <th>2010-06-29</th>\n",
       "      <td>3.800000</td>\n",
       "      <td>5.000000</td>\n",
       "      <td>3.508000</td>\n",
       "      <td>4.778000</td>\n",
       "      <td>4.778000</td>\n",
       "      <td>93831500</td>\n",
       "      <td>NaN</td>\n",
       "      <td>NaN</td>\n",
       "    </tr>\n",
       "    <tr>\n",
       "      <th>2010-06-30</th>\n",
       "      <td>5.158000</td>\n",
       "      <td>6.084000</td>\n",
       "      <td>4.660000</td>\n",
       "      <td>4.766000</td>\n",
       "      <td>4.766000</td>\n",
       "      <td>85935500</td>\n",
       "      <td>NaN</td>\n",
       "      <td>NaN</td>\n",
       "    </tr>\n",
       "    <tr>\n",
       "      <th>2010-07-01</th>\n",
       "      <td>5.000000</td>\n",
       "      <td>5.184000</td>\n",
       "      <td>4.054000</td>\n",
       "      <td>4.392000</td>\n",
       "      <td>4.392000</td>\n",
       "      <td>41094000</td>\n",
       "      <td>NaN</td>\n",
       "      <td>NaN</td>\n",
       "    </tr>\n",
       "    <tr>\n",
       "      <th>2010-07-02</th>\n",
       "      <td>4.600000</td>\n",
       "      <td>4.620000</td>\n",
       "      <td>3.742000</td>\n",
       "      <td>3.840000</td>\n",
       "      <td>3.840000</td>\n",
       "      <td>25699000</td>\n",
       "      <td>NaN</td>\n",
       "      <td>NaN</td>\n",
       "    </tr>\n",
       "    <tr>\n",
       "      <th>2010-07-06</th>\n",
       "      <td>4.000000</td>\n",
       "      <td>4.000000</td>\n",
       "      <td>3.166000</td>\n",
       "      <td>3.222000</td>\n",
       "      <td>3.222000</td>\n",
       "      <td>34334500</td>\n",
       "      <td>4.511600</td>\n",
       "      <td>NaN</td>\n",
       "    </tr>\n",
       "    <tr>\n",
       "      <th>...</th>\n",
       "      <td>...</td>\n",
       "      <td>...</td>\n",
       "      <td>...</td>\n",
       "      <td>...</td>\n",
       "      <td>...</td>\n",
       "      <td>...</td>\n",
       "      <td>...</td>\n",
       "      <td>...</td>\n",
       "    </tr>\n",
       "    <tr>\n",
       "      <th>2022-03-18</th>\n",
       "      <td>874.489990</td>\n",
       "      <td>907.849976</td>\n",
       "      <td>867.390015</td>\n",
       "      <td>905.390015</td>\n",
       "      <td>905.390015</td>\n",
       "      <td>33408500</td>\n",
       "      <td>814.071997</td>\n",
       "      <td>855.553666</td>\n",
       "    </tr>\n",
       "    <tr>\n",
       "      <th>2022-03-21</th>\n",
       "      <td>914.979980</td>\n",
       "      <td>942.849976</td>\n",
       "      <td>907.090027</td>\n",
       "      <td>921.159973</td>\n",
       "      <td>921.159973</td>\n",
       "      <td>27327200</td>\n",
       "      <td>840.945996</td>\n",
       "      <td>856.145666</td>\n",
       "    </tr>\n",
       "    <tr>\n",
       "      <th>2022-03-22</th>\n",
       "      <td>930.000000</td>\n",
       "      <td>997.859985</td>\n",
       "      <td>921.750000</td>\n",
       "      <td>993.979980</td>\n",
       "      <td>993.979980</td>\n",
       "      <td>35289500</td>\n",
       "      <td>871.891992</td>\n",
       "      <td>856.352667</td>\n",
       "    </tr>\n",
       "    <tr>\n",
       "      <th>2022-03-23</th>\n",
       "      <td>979.940002</td>\n",
       "      <td>1040.699951</td>\n",
       "      <td>976.400024</td>\n",
       "      <td>999.109985</td>\n",
       "      <td>999.109985</td>\n",
       "      <td>40225400</td>\n",
       "      <td>906.079992</td>\n",
       "      <td>858.833000</td>\n",
       "    </tr>\n",
       "    <tr>\n",
       "      <th>2022-03-24</th>\n",
       "      <td>1009.729980</td>\n",
       "      <td>1024.489990</td>\n",
       "      <td>988.799988</td>\n",
       "      <td>1013.919983</td>\n",
       "      <td>1013.919983</td>\n",
       "      <td>22901900</td>\n",
       "      <td>941.827990</td>\n",
       "      <td>861.323999</td>\n",
       "    </tr>\n",
       "  </tbody>\n",
       "</table>\n",
       "<p>2956 rows × 8 columns</p>\n",
       "</div>"
      ],
      "text/plain": [
       "                   Open         High         Low        Close    Adj Close  \\\n",
       "Date                                                                         \n",
       "2010-06-29     3.800000     5.000000    3.508000     4.778000     4.778000   \n",
       "2010-06-30     5.158000     6.084000    4.660000     4.766000     4.766000   \n",
       "2010-07-01     5.000000     5.184000    4.054000     4.392000     4.392000   \n",
       "2010-07-02     4.600000     4.620000    3.742000     3.840000     3.840000   \n",
       "2010-07-06     4.000000     4.000000    3.166000     3.222000     3.222000   \n",
       "...                 ...          ...         ...          ...          ...   \n",
       "2022-03-18   874.489990   907.849976  867.390015   905.390015   905.390015   \n",
       "2022-03-21   914.979980   942.849976  907.090027   921.159973   921.159973   \n",
       "2022-03-22   930.000000   997.859985  921.750000   993.979980   993.979980   \n",
       "2022-03-23   979.940002  1040.699951  976.400024   999.109985   999.109985   \n",
       "2022-03-24  1009.729980  1024.489990  988.799988  1013.919983  1013.919983   \n",
       "\n",
       "              Volume  Open:5 rolling  Open:30 rolling  \n",
       "Date                                                   \n",
       "2010-06-29  93831500             NaN              NaN  \n",
       "2010-06-30  85935500             NaN              NaN  \n",
       "2010-07-01  41094000             NaN              NaN  \n",
       "2010-07-02  25699000             NaN              NaN  \n",
       "2010-07-06  34334500        4.511600              NaN  \n",
       "...              ...             ...              ...  \n",
       "2022-03-18  33408500      814.071997       855.553666  \n",
       "2022-03-21  27327200      840.945996       856.145666  \n",
       "2022-03-22  35289500      871.891992       856.352667  \n",
       "2022-03-23  40225400      906.079992       858.833000  \n",
       "2022-03-24  22901900      941.827990       861.323999  \n",
       "\n",
       "[2956 rows x 8 columns]"
      ]
     },
     "execution_count": 28,
     "metadata": {},
     "output_type": "execute_result"
    }
   ],
   "source": [
    "df['Open:30 rolling'] = df['Open'].rolling(30).mean()\n",
    "df"
   ]
  },
  {
   "cell_type": "markdown",
   "id": "27f61a85",
   "metadata": {},
   "source": [
    "## Here the large value smooth out the line which was high and low at many points "
   ]
  },
  {
   "cell_type": "code",
   "execution_count": 32,
   "id": "af376a7b",
   "metadata": {},
   "outputs": [
    {
     "data": {
      "text/plain": [
       "<AxesSubplot:xlabel='Date'>"
      ]
     },
     "execution_count": 32,
     "metadata": {},
     "output_type": "execute_result"
    },
    {
     "data": {
      "image/png": "[encoded data removed]",
      "text/plain": [
       "<Figure size 1080x360 with 1 Axes>"
      ]
     },
     "metadata": {
      "needs_background": "light"
     },
     "output_type": "display_data"
    }
   ],
   "source": [
    "df[['Open', 'Open:5 rolling','Open:30 rolling']].plot(figsize = (15,5),xlim = ['2019-07-06','2022-03-24'], kind = 'bar')"
   ]
  }
 ],
 "metadata": {
  "kernelspec": {
   "display_name": "Python 3 (ipykernel)",
   "language": "python",
   "name": "python3"
  },
  "language_info": {
   "codemirror_mode": {
    "name": "ipython",
    "version": 3
   },
   "file_extension": ".py",
   "mimetype": "text/x-python",
   "name": "python",
   "nbconvert_exporter": "python",
   "pygments_lexer": "ipython3",
   "version": "3.9.12"
  }
 },
 "nbformat": 4,
 "nbformat_minor": 5
}
